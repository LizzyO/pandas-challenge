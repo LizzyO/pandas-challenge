{
 "cells": [
  {
   "cell_type": "markdown",
   "metadata": {},
   "source": [
    "#  Heroes Of Pymoli Data Analysis"
   ]
  },
  {
   "cell_type": "code",
   "execution_count": 1,
   "metadata": {},
   "outputs": [],
   "source": [
    "#The majority of the 780 players are males (84%).\n",
    "#While males make up the majority of players, females make up 14% of purchases and notably have the highest average #purchase ($3.20).\n",
    "#The largest demographic is 20-24 year olds (44.79%). \n",
    "#Players 30-39 years olds spent more on average ($3.60) than do 20-24 year olds ($3.05).\n",
    "#The most popular item is the Final Critic which is also the most profitable at $4.61 per item."
   ]
  },
  {
   "cell_type": "code",
   "execution_count": 2,
   "metadata": {},
   "outputs": [
    {
     "data": {
      "text/html": [
       "<div>\n",
       "<style scoped>\n",
       "    .dataframe tbody tr th:only-of-type {\n",
       "        vertical-align: middle;\n",
       "    }\n",
       "\n",
       "    .dataframe tbody tr th {\n",
       "        vertical-align: top;\n",
       "    }\n",
       "\n",
       "    .dataframe thead th {\n",
       "        text-align: right;\n",
       "    }\n",
       "</style>\n",
       "<table border=\"1\" class=\"dataframe\">\n",
       "  <thead>\n",
       "    <tr style=\"text-align: right;\">\n",
       "      <th></th>\n",
       "      <th>Purchase ID</th>\n",
       "      <th>SN</th>\n",
       "      <th>Age</th>\n",
       "      <th>Gender</th>\n",
       "      <th>Item ID</th>\n",
       "      <th>Item Name</th>\n",
       "      <th>Price</th>\n",
       "    </tr>\n",
       "  </thead>\n",
       "  <tbody>\n",
       "    <tr>\n",
       "      <th>0</th>\n",
       "      <td>0</td>\n",
       "      <td>Lisim78</td>\n",
       "      <td>20</td>\n",
       "      <td>Male</td>\n",
       "      <td>108</td>\n",
       "      <td>Extraction, Quickblade Of Trembling Hands</td>\n",
       "      <td>3.53</td>\n",
       "    </tr>\n",
       "    <tr>\n",
       "      <th>1</th>\n",
       "      <td>1</td>\n",
       "      <td>Lisovynya38</td>\n",
       "      <td>40</td>\n",
       "      <td>Male</td>\n",
       "      <td>143</td>\n",
       "      <td>Frenzied Scimitar</td>\n",
       "      <td>1.56</td>\n",
       "    </tr>\n",
       "    <tr>\n",
       "      <th>2</th>\n",
       "      <td>2</td>\n",
       "      <td>Ithergue48</td>\n",
       "      <td>24</td>\n",
       "      <td>Male</td>\n",
       "      <td>92</td>\n",
       "      <td>Final Critic</td>\n",
       "      <td>4.88</td>\n",
       "    </tr>\n",
       "    <tr>\n",
       "      <th>3</th>\n",
       "      <td>3</td>\n",
       "      <td>Chamassasya86</td>\n",
       "      <td>24</td>\n",
       "      <td>Male</td>\n",
       "      <td>100</td>\n",
       "      <td>Blindscythe</td>\n",
       "      <td>3.27</td>\n",
       "    </tr>\n",
       "    <tr>\n",
       "      <th>4</th>\n",
       "      <td>4</td>\n",
       "      <td>Iskosia90</td>\n",
       "      <td>23</td>\n",
       "      <td>Male</td>\n",
       "      <td>131</td>\n",
       "      <td>Fury</td>\n",
       "      <td>1.44</td>\n",
       "    </tr>\n",
       "  </tbody>\n",
       "</table>\n",
       "</div>"
      ],
      "text/plain": [
       "   Purchase ID             SN  Age Gender  Item ID  \\\n",
       "0            0        Lisim78   20   Male      108   \n",
       "1            1    Lisovynya38   40   Male      143   \n",
       "2            2     Ithergue48   24   Male       92   \n",
       "3            3  Chamassasya86   24   Male      100   \n",
       "4            4      Iskosia90   23   Male      131   \n",
       "\n",
       "                                   Item Name  Price  \n",
       "0  Extraction, Quickblade Of Trembling Hands   3.53  \n",
       "1                          Frenzied Scimitar   1.56  \n",
       "2                               Final Critic   4.88  \n",
       "3                                Blindscythe   3.27  \n",
       "4                                       Fury   1.44  "
      ]
     },
     "execution_count": 2,
     "metadata": {},
     "output_type": "execute_result"
    }
   ],
   "source": [
    "# Dependencies and Setup\n",
    "import pandas as pd\n",
    "# File to Load (Remember to Change These)\n",
    "purchase_data = \"Resources/purchase_data.csv\"\n",
    "# Read Purchasing File and store into Pandas data frame\n",
    "purchase_data_df = pd.read_csv(purchase_data)\n",
    "purchase_data_df.head()"
   ]
  },
  {
   "cell_type": "markdown",
   "metadata": {},
   "source": [
    "## Player Count"
   ]
  },
  {
   "cell_type": "code",
   "execution_count": 3,
   "metadata": {},
   "outputs": [],
   "source": [
    "player_group = purchase_data_df.groupby([\"Gender\"])"
   ]
  },
  {
   "cell_type": "code",
   "execution_count": 4,
   "metadata": {
    "scrolled": true
   },
   "outputs": [
    {
     "data": {
      "text/plain": [
       "576"
      ]
     },
     "execution_count": 4,
     "metadata": {},
     "output_type": "execute_result"
    }
   ],
   "source": [
    " #Display the total number of players\n",
    "player_count_df = purchase_data_df[\"SN\"].nunique()\n",
    "player_count_df"
   ]
  },
  {
   "cell_type": "code",
   "execution_count": 5,
   "metadata": {},
   "outputs": [
    {
     "data": {
      "text/html": [
       "<div>\n",
       "<style scoped>\n",
       "    .dataframe tbody tr th:only-of-type {\n",
       "        vertical-align: middle;\n",
       "    }\n",
       "\n",
       "    .dataframe tbody tr th {\n",
       "        vertical-align: top;\n",
       "    }\n",
       "\n",
       "    .dataframe thead th {\n",
       "        text-align: right;\n",
       "    }\n",
       "</style>\n",
       "<table border=\"1\" class=\"dataframe\">\n",
       "  <thead>\n",
       "    <tr style=\"text-align: right;\">\n",
       "      <th></th>\n",
       "      <th>Total Players</th>\n",
       "    </tr>\n",
       "  </thead>\n",
       "  <tbody>\n",
       "    <tr>\n",
       "      <th>0</th>\n",
       "      <td>576</td>\n",
       "    </tr>\n",
       "  </tbody>\n",
       "</table>\n",
       "</div>"
      ],
      "text/plain": [
       "   Total Players\n",
       "0            576"
      ]
     },
     "execution_count": 5,
     "metadata": {},
     "output_type": "execute_result"
    }
   ],
   "source": [
    "dis_player_count_df = pd.DataFrame({\"Total Players\": [player_count_df]})\n",
    "dis_player_count_df"
   ]
  },
  {
   "cell_type": "markdown",
   "metadata": {},
   "source": [
    "## Purchasing Analysis (Total)"
   ]
  },
  {
   "cell_type": "code",
   "execution_count": 6,
   "metadata": {},
   "outputs": [
    {
     "data": {
      "text/plain": [
       "780"
      ]
     },
     "execution_count": 6,
     "metadata": {},
     "output_type": "execute_result"
    }
   ],
   "source": [
    "#Purchasing Analysis\n",
    "#Run basic calculations to obtain number of Total number of purchases\n",
    "items_purchased = (purchase_data_df[\"Item Name\"]).count()\n",
    "items_purchased"
   ]
  },
  {
   "cell_type": "code",
   "execution_count": 7,
   "metadata": {
    "scrolled": true
   },
   "outputs": [
    {
     "data": {
      "text/plain": [
       "179"
      ]
     },
     "execution_count": 7,
     "metadata": {},
     "output_type": "execute_result"
    }
   ],
   "source": [
    "#number of unique items\n",
    "un_items_purchased = (purchase_data_df[\"Item Name\"]).nunique()\n",
    "un_items_purchased"
   ]
  },
  {
   "cell_type": "code",
   "execution_count": 8,
   "metadata": {},
   "outputs": [
    {
     "data": {
      "text/plain": [
       "2379.77"
      ]
     },
     "execution_count": 8,
     "metadata": {},
     "output_type": "execute_result"
    }
   ],
   "source": [
    "#total revenue\n",
    "total_revenue = (purchase_data_df[\"Price\"]).sum()\n",
    "total_revenue"
   ]
  },
  {
   "cell_type": "code",
   "execution_count": 9,
   "metadata": {},
   "outputs": [
    {
     "data": {
      "text/plain": [
       "3.050987179487176"
      ]
     },
     "execution_count": 9,
     "metadata": {},
     "output_type": "execute_result"
    }
   ],
   "source": [
    "#average purchase price\n",
    "av_price_df = (purchase_data_df[\"Price\"]).mean()\n",
    "av_price_df"
   ]
  },
  {
   "cell_type": "markdown",
   "metadata": {},
   "source": [
    "### Display the summary data frame"
   ]
  },
  {
   "cell_type": "code",
   "execution_count": 10,
   "metadata": {
    "scrolled": false
   },
   "outputs": [
    {
     "data": {
      "text/html": [
       "<style  type=\"text/css\" >\n",
       "</style><table id=\"T_b1d7d062_7156_11ea_8cca_8c8590775df2\" ><thead>    <tr>        <th class=\"blank level0\" ></th>        <th class=\"col_heading level0 col0\" >Number of Unique Items</th>        <th class=\"col_heading level0 col1\" >Average Price</th>        <th class=\"col_heading level0 col2\" >Number of Purchases</th>        <th class=\"col_heading level0 col3\" >Total Revenue</th>    </tr></thead><tbody>\n",
       "                <tr>\n",
       "                        <th id=\"T_b1d7d062_7156_11ea_8cca_8c8590775df2level0_row0\" class=\"row_heading level0 row0\" >0</th>\n",
       "                        <td id=\"T_b1d7d062_7156_11ea_8cca_8c8590775df2row0_col0\" class=\"data row0 col0\" >179</td>\n",
       "                        <td id=\"T_b1d7d062_7156_11ea_8cca_8c8590775df2row0_col1\" class=\"data row0 col1\" > $3.05</td>\n",
       "                        <td id=\"T_b1d7d062_7156_11ea_8cca_8c8590775df2row0_col2\" class=\"data row0 col2\" >780</td>\n",
       "                        <td id=\"T_b1d7d062_7156_11ea_8cca_8c8590775df2row0_col3\" class=\"data row0 col3\" >$2,379.77</td>\n",
       "            </tr>\n",
       "    </tbody></table>"
      ],
      "text/plain": [
       "<pandas.io.formats.style.Styler at 0x11bd499b0>"
      ]
     },
     "execution_count": 10,
     "metadata": {},
     "output_type": "execute_result"
    }
   ],
   "source": [
    "#place items on same list\n",
    "merge_1 = pd.DataFrame({\"Number of Unique Items\": [un_items_purchased], \"Average Price\": [av_price_df], \n",
    "                        \"Number of Purchases\": [items_purchased], \"Total Revenue\": [total_revenue]})\n",
    "merge_1\n",
    "merge_1.style.format({\"Average Price\":\" ${:,.2f}\", \"Total Revenue\":\"${:,.2f}\"})"
   ]
  },
  {
   "cell_type": "markdown",
   "metadata": {},
   "source": [
    "## Gender Demographics"
   ]
  },
  {
   "cell_type": "code",
   "execution_count": 11,
   "metadata": {},
   "outputs": [],
   "source": [
    "gender_data_df = purchase_data_df[[\"SN\", \"Gender\"]]"
   ]
  },
  {
   "cell_type": "code",
   "execution_count": 12,
   "metadata": {
    "scrolled": true
   },
   "outputs": [],
   "source": [
    "gender_mod_df = gender_data_df.drop_duplicates()"
   ]
  },
  {
   "cell_type": "code",
   "execution_count": 13,
   "metadata": {
    "scrolled": true
   },
   "outputs": [],
   "source": [
    "gender_group = gender_mod_df.groupby([\"Gender\"])"
   ]
  },
  {
   "cell_type": "code",
   "execution_count": 14,
   "metadata": {
    "scrolled": true
   },
   "outputs": [],
   "source": [
    "gen_count = gender_group[\"Gender\"].count()"
   ]
  },
  {
   "cell_type": "code",
   "execution_count": 15,
   "metadata": {
    "scrolled": true
   },
   "outputs": [
    {
     "data": {
      "text/html": [
       "<div>\n",
       "<style scoped>\n",
       "    .dataframe tbody tr th:only-of-type {\n",
       "        vertical-align: middle;\n",
       "    }\n",
       "\n",
       "    .dataframe tbody tr th {\n",
       "        vertical-align: top;\n",
       "    }\n",
       "\n",
       "    .dataframe thead th {\n",
       "        text-align: right;\n",
       "    }\n",
       "</style>\n",
       "<table border=\"1\" class=\"dataframe\">\n",
       "  <thead>\n",
       "    <tr style=\"text-align: right;\">\n",
       "      <th></th>\n",
       "      <th>Total Count</th>\n",
       "    </tr>\n",
       "    <tr>\n",
       "      <th>Gender</th>\n",
       "      <th></th>\n",
       "    </tr>\n",
       "  </thead>\n",
       "  <tbody>\n",
       "    <tr>\n",
       "      <th>Female</th>\n",
       "      <td>81</td>\n",
       "    </tr>\n",
       "    <tr>\n",
       "      <th>Male</th>\n",
       "      <td>484</td>\n",
       "    </tr>\n",
       "    <tr>\n",
       "      <th>Other / Non-Disclosed</th>\n",
       "      <td>11</td>\n",
       "    </tr>\n",
       "  </tbody>\n",
       "</table>\n",
       "</div>"
      ],
      "text/plain": [
       "                       Total Count\n",
       "Gender                            \n",
       "Female                          81\n",
       "Male                           484\n",
       "Other / Non-Disclosed           11"
      ]
     },
     "execution_count": 15,
     "metadata": {},
     "output_type": "execute_result"
    }
   ],
   "source": [
    "gen_count_df = pd.DataFrame(gender_group[\"Gender\"].count())\n",
    "gen_count_df = gen_count_df.rename(columns={\"Gender\": \"Total Count\"})\n",
    "gen_count_df"
   ]
  },
  {
   "cell_type": "code",
   "execution_count": 16,
   "metadata": {
    "scrolled": false
   },
   "outputs": [],
   "source": [
    "gender_pct_df = pd.DataFrame(gen_count_df / player_count_df *100)\n",
    "gender_pct_df = gender_pct_df.rename(columns={\"Total Count\": \"Percentage of Players\"})"
   ]
  },
  {
   "cell_type": "markdown",
   "metadata": {},
   "source": [
    "### Display the summary data frame"
   ]
  },
  {
   "cell_type": "code",
   "execution_count": 17,
   "metadata": {
    "scrolled": true
   },
   "outputs": [
    {
     "data": {
      "text/html": [
       "<style  type=\"text/css\" >\n",
       "</style><table id=\"T_b5a62c5a_7156_11ea_9db6_8c8590775df2\" ><thead>    <tr>        <th class=\"blank level0\" ></th>        <th class=\"col_heading level0 col0\" >Total Count</th>        <th class=\"col_heading level0 col1\" >Percentage of Players</th>    </tr>    <tr>        <th class=\"index_name level0\" >Gender</th>        <th class=\"blank\" ></th>        <th class=\"blank\" ></th>    </tr></thead><tbody>\n",
       "                <tr>\n",
       "                        <th id=\"T_b5a62c5a_7156_11ea_9db6_8c8590775df2level0_row0\" class=\"row_heading level0 row0\" >Female</th>\n",
       "                        <td id=\"T_b5a62c5a_7156_11ea_9db6_8c8590775df2row0_col0\" class=\"data row0 col0\" >81</td>\n",
       "                        <td id=\"T_b5a62c5a_7156_11ea_9db6_8c8590775df2row0_col1\" class=\"data row0 col1\" > 14.06%</td>\n",
       "            </tr>\n",
       "            <tr>\n",
       "                        <th id=\"T_b5a62c5a_7156_11ea_9db6_8c8590775df2level0_row1\" class=\"row_heading level0 row1\" >Male</th>\n",
       "                        <td id=\"T_b5a62c5a_7156_11ea_9db6_8c8590775df2row1_col0\" class=\"data row1 col0\" >484</td>\n",
       "                        <td id=\"T_b5a62c5a_7156_11ea_9db6_8c8590775df2row1_col1\" class=\"data row1 col1\" > 84.03%</td>\n",
       "            </tr>\n",
       "            <tr>\n",
       "                        <th id=\"T_b5a62c5a_7156_11ea_9db6_8c8590775df2level0_row2\" class=\"row_heading level0 row2\" >Other / Non-Disclosed</th>\n",
       "                        <td id=\"T_b5a62c5a_7156_11ea_9db6_8c8590775df2row2_col0\" class=\"data row2 col0\" >11</td>\n",
       "                        <td id=\"T_b5a62c5a_7156_11ea_9db6_8c8590775df2row2_col1\" class=\"data row2 col1\" > 1.91%</td>\n",
       "            </tr>\n",
       "    </tbody></table>"
      ],
      "text/plain": [
       "<pandas.io.formats.style.Styler at 0x11cecc6a0>"
      ]
     },
     "execution_count": 17,
     "metadata": {},
     "output_type": "execute_result"
    }
   ],
   "source": [
    "gender_merge_df = pd.merge(gen_count_df, gender_pct_df, on=\"Gender\")\n",
    "gender_merge_df.style.format({\"Percentage of Players\":\" {:,.2f}%\"})"
   ]
  },
  {
   "cell_type": "markdown",
   "metadata": {},
   "source": [
    "### Purchasing Analysis (Gender)"
   ]
  },
  {
   "cell_type": "code",
   "execution_count": 18,
   "metadata": {
    "scrolled": true
   },
   "outputs": [],
   "source": [
    "purchase_analysis_df = purchase_data_df[[\"Gender\", \"SN\", \"Price\"]]"
   ]
  },
  {
   "cell_type": "code",
   "execution_count": 19,
   "metadata": {},
   "outputs": [],
   "source": [
    "purchase_analysis_group = purchase_data_df.groupby([\"Gender\"])"
   ]
  },
  {
   "cell_type": "code",
   "execution_count": 20,
   "metadata": {},
   "outputs": [],
   "source": [
    "#The below each broken by gender\n",
    "#Purchase Count\n",
    "#Average Purchase Price\n",
    "#Total Purchase Value\n",
    "#Average Purchase Total per Person by Gender\n",
    "purch_gen_count_df = pd.DataFrame(purchase_analysis_group[\"Gender\"].count())\n",
    "purch_gen_count_df = purch_gen_count_df.rename(columns={\"Gender\": \"Purchase Count\"})"
   ]
  },
  {
   "cell_type": "code",
   "execution_count": 21,
   "metadata": {
    "scrolled": true
   },
   "outputs": [],
   "source": [
    "purch_gen_av_df = pd.DataFrame(purchase_analysis_group[\"Price\"].mean())\n",
    "purch_gen_av_df = purch_gen_av_df.rename(columns={\"Price\": \"Average Purchase Price\"})"
   ]
  },
  {
   "cell_type": "code",
   "execution_count": 22,
   "metadata": {},
   "outputs": [],
   "source": [
    "merge_2 = pd.merge(purch_gen_count_df, purch_gen_av_df, on=\"Gender\")"
   ]
  },
  {
   "cell_type": "code",
   "execution_count": 23,
   "metadata": {
    "scrolled": true
   },
   "outputs": [],
   "source": [
    "purch_gen_val_df = pd.DataFrame(purchase_analysis_group[\"Price\"].sum())\n",
    "purch_gen_val_df = purch_gen_val_df.rename(columns={\"Price\": \"Total Purchase Value\"})"
   ]
  },
  {
   "cell_type": "code",
   "execution_count": 24,
   "metadata": {
    "scrolled": true
   },
   "outputs": [],
   "source": [
    "merge_3 = pd.merge(merge_2, purch_gen_val_df, on=\"Gender\")"
   ]
  },
  {
   "cell_type": "code",
   "execution_count": 25,
   "metadata": {
    "scrolled": true
   },
   "outputs": [],
   "source": [
    "purch_gen_per_df = pd.DataFrame(purch_gen_val_df['Total Purchase Value']/gen_count_df['Total Count'],\n",
    "                                columns=[\"Avg Total Purchase per Person\"])"
   ]
  },
  {
   "cell_type": "markdown",
   "metadata": {},
   "source": [
    "### Display the summary data frame"
   ]
  },
  {
   "cell_type": "code",
   "execution_count": 26,
   "metadata": {
    "scrolled": true
   },
   "outputs": [
    {
     "data": {
      "text/html": [
       "<style  type=\"text/css\" >\n",
       "</style><table id=\"T_ba6298a8_7156_11ea_a3a8_8c8590775df2\" ><thead>    <tr>        <th class=\"blank level0\" ></th>        <th class=\"col_heading level0 col0\" >Purchase Count</th>        <th class=\"col_heading level0 col1\" >Average Purchase Price</th>        <th class=\"col_heading level0 col2\" >Total Purchase Value</th>        <th class=\"col_heading level0 col3\" >Avg Total Purchase per Person</th>    </tr>    <tr>        <th class=\"index_name level0\" >Gender</th>        <th class=\"blank\" ></th>        <th class=\"blank\" ></th>        <th class=\"blank\" ></th>        <th class=\"blank\" ></th>    </tr></thead><tbody>\n",
       "                <tr>\n",
       "                        <th id=\"T_ba6298a8_7156_11ea_a3a8_8c8590775df2level0_row0\" class=\"row_heading level0 row0\" >Female</th>\n",
       "                        <td id=\"T_ba6298a8_7156_11ea_a3a8_8c8590775df2row0_col0\" class=\"data row0 col0\" >113</td>\n",
       "                        <td id=\"T_ba6298a8_7156_11ea_a3a8_8c8590775df2row0_col1\" class=\"data row0 col1\" > $3.20</td>\n",
       "                        <td id=\"T_ba6298a8_7156_11ea_a3a8_8c8590775df2row0_col2\" class=\"data row0 col2\" >$361.94</td>\n",
       "                        <td id=\"T_ba6298a8_7156_11ea_a3a8_8c8590775df2row0_col3\" class=\"data row0 col3\" >4.47%</td>\n",
       "            </tr>\n",
       "            <tr>\n",
       "                        <th id=\"T_ba6298a8_7156_11ea_a3a8_8c8590775df2level0_row1\" class=\"row_heading level0 row1\" >Male</th>\n",
       "                        <td id=\"T_ba6298a8_7156_11ea_a3a8_8c8590775df2row1_col0\" class=\"data row1 col0\" >652</td>\n",
       "                        <td id=\"T_ba6298a8_7156_11ea_a3a8_8c8590775df2row1_col1\" class=\"data row1 col1\" > $3.02</td>\n",
       "                        <td id=\"T_ba6298a8_7156_11ea_a3a8_8c8590775df2row1_col2\" class=\"data row1 col2\" >$1,967.64</td>\n",
       "                        <td id=\"T_ba6298a8_7156_11ea_a3a8_8c8590775df2row1_col3\" class=\"data row1 col3\" >4.07%</td>\n",
       "            </tr>\n",
       "            <tr>\n",
       "                        <th id=\"T_ba6298a8_7156_11ea_a3a8_8c8590775df2level0_row2\" class=\"row_heading level0 row2\" >Other / Non-Disclosed</th>\n",
       "                        <td id=\"T_ba6298a8_7156_11ea_a3a8_8c8590775df2row2_col0\" class=\"data row2 col0\" >15</td>\n",
       "                        <td id=\"T_ba6298a8_7156_11ea_a3a8_8c8590775df2row2_col1\" class=\"data row2 col1\" > $3.35</td>\n",
       "                        <td id=\"T_ba6298a8_7156_11ea_a3a8_8c8590775df2row2_col2\" class=\"data row2 col2\" >$50.19</td>\n",
       "                        <td id=\"T_ba6298a8_7156_11ea_a3a8_8c8590775df2row2_col3\" class=\"data row2 col3\" >4.56%</td>\n",
       "            </tr>\n",
       "    </tbody></table>"
      ],
      "text/plain": [
       "<pandas.io.formats.style.Styler at 0x11ce890f0>"
      ]
     },
     "execution_count": 26,
     "metadata": {},
     "output_type": "execute_result"
    }
   ],
   "source": [
    "merge_purch_final = pd.merge(merge_3, purch_gen_per_df, on=\"Gender\")\n",
    "merge_purch_final = merge_purch_final.style.format({\"Average Purchase Price\":\" ${:,.2f}\", \n",
    "                          \"Total Purchase Value\":\"${:,.2f}\", \"Avg Total Purchase per Person\":\"{:,.2f}%\"}) \n",
    "merge_purch_final"
   ]
  },
  {
   "cell_type": "markdown",
   "metadata": {},
   "source": [
    "# Age Demographics"
   ]
  },
  {
   "cell_type": "code",
   "execution_count": 27,
   "metadata": {
    "scrolled": true
   },
   "outputs": [
    {
     "data": {
      "text/html": [
       "<div>\n",
       "<style scoped>\n",
       "    .dataframe tbody tr th:only-of-type {\n",
       "        vertical-align: middle;\n",
       "    }\n",
       "\n",
       "    .dataframe tbody tr th {\n",
       "        vertical-align: top;\n",
       "    }\n",
       "\n",
       "    .dataframe thead th {\n",
       "        text-align: right;\n",
       "    }\n",
       "</style>\n",
       "<table border=\"1\" class=\"dataframe\">\n",
       "  <thead>\n",
       "    <tr style=\"text-align: right;\">\n",
       "      <th></th>\n",
       "      <th>SN</th>\n",
       "      <th>Age</th>\n",
       "      <th>Item ID</th>\n",
       "      <th>Price</th>\n",
       "    </tr>\n",
       "  </thead>\n",
       "  <tbody>\n",
       "    <tr>\n",
       "      <th>0</th>\n",
       "      <td>Lisim78</td>\n",
       "      <td>20</td>\n",
       "      <td>108</td>\n",
       "      <td>3.53</td>\n",
       "    </tr>\n",
       "    <tr>\n",
       "      <th>1</th>\n",
       "      <td>Lisovynya38</td>\n",
       "      <td>40</td>\n",
       "      <td>143</td>\n",
       "      <td>1.56</td>\n",
       "    </tr>\n",
       "    <tr>\n",
       "      <th>2</th>\n",
       "      <td>Ithergue48</td>\n",
       "      <td>24</td>\n",
       "      <td>92</td>\n",
       "      <td>4.88</td>\n",
       "    </tr>\n",
       "    <tr>\n",
       "      <th>3</th>\n",
       "      <td>Chamassasya86</td>\n",
       "      <td>24</td>\n",
       "      <td>100</td>\n",
       "      <td>3.27</td>\n",
       "    </tr>\n",
       "    <tr>\n",
       "      <th>4</th>\n",
       "      <td>Iskosia90</td>\n",
       "      <td>23</td>\n",
       "      <td>131</td>\n",
       "      <td>1.44</td>\n",
       "    </tr>\n",
       "  </tbody>\n",
       "</table>\n",
       "</div>"
      ],
      "text/plain": [
       "              SN  Age  Item ID  Price\n",
       "0        Lisim78   20      108   3.53\n",
       "1    Lisovynya38   40      143   1.56\n",
       "2     Ithergue48   24       92   4.88\n",
       "3  Chamassasya86   24      100   3.27\n",
       "4      Iskosia90   23      131   1.44"
      ]
     },
     "execution_count": 27,
     "metadata": {},
     "output_type": "execute_result"
    }
   ],
   "source": [
    "purch_gen_df = purchase_data_df[[\"SN\", \"Age\", \"Item ID\", \"Price\"]]\n",
    "purch_gen_df.head()"
   ]
  },
  {
   "cell_type": "code",
   "execution_count": 28,
   "metadata": {},
   "outputs": [],
   "source": [
    " bins = [0, 9, 14, 19, 24, 29, 34, 39, 45]   \n",
    "group_labels = [\"<10\", \"10-14\", \"15-19\", \"20-24\", \"25-29\", \"30-34\",\n",
    "                \"35-39\", \"40+\"]"
   ]
  },
  {
   "cell_type": "code",
   "execution_count": 29,
   "metadata": {
    "scrolled": false
   },
   "outputs": [
    {
     "data": {
      "text/plain": [
       "0    20-24\n",
       "1      40+\n",
       "2    20-24\n",
       "3    20-24\n",
       "4    20-24\n",
       "Name: Age, dtype: category\n",
       "Categories (8, object): [<10 < 10-14 < 15-19 < 20-24 < 25-29 < 30-34 < 35-39 < 40+]"
      ]
     },
     "execution_count": 29,
     "metadata": {},
     "output_type": "execute_result"
    }
   ],
   "source": [
    "pd.cut(purchase_data_df[\"Age\"], bins, labels=group_labels).head()"
   ]
  },
  {
   "cell_type": "code",
   "execution_count": 30,
   "metadata": {
    "scrolled": true
   },
   "outputs": [],
   "source": [
    "purchase_data_df[\"Age Group\"] = pd.cut(purchase_data_df[\"Age\"], bins, labels=group_labels)"
   ]
  },
  {
   "cell_type": "code",
   "execution_count": 31,
   "metadata": {
    "scrolled": false
   },
   "outputs": [],
   "source": [
    "age_purch_data_df = purchase_data_df.groupby(\"Age Group\")\n",
    "age_purch_data_df\n",
    "# Find how many rows fall into each bin\n",
    "count_by_age_df = pd.DataFrame(age_purch_data_df[\"SN\"].nunique())\n",
    "count_by_age_df = count_by_age_df.rename(columns={\"SN\": \"Total Count\"})"
   ]
  },
  {
   "cell_type": "code",
   "execution_count": 32,
   "metadata": {},
   "outputs": [
    {
     "data": {
      "text/html": [
       "<div>\n",
       "<style scoped>\n",
       "    .dataframe tbody tr th:only-of-type {\n",
       "        vertical-align: middle;\n",
       "    }\n",
       "\n",
       "    .dataframe tbody tr th {\n",
       "        vertical-align: top;\n",
       "    }\n",
       "\n",
       "    .dataframe thead th {\n",
       "        text-align: right;\n",
       "    }\n",
       "</style>\n",
       "<table border=\"1\" class=\"dataframe\">\n",
       "  <thead>\n",
       "    <tr style=\"text-align: right;\">\n",
       "      <th></th>\n",
       "      <th>Percentage of Players</th>\n",
       "    </tr>\n",
       "    <tr>\n",
       "      <th>Age Group</th>\n",
       "      <th></th>\n",
       "    </tr>\n",
       "  </thead>\n",
       "  <tbody>\n",
       "    <tr>\n",
       "      <th>&lt;10</th>\n",
       "      <td>2.951389</td>\n",
       "    </tr>\n",
       "    <tr>\n",
       "      <th>10-14</th>\n",
       "      <td>3.819444</td>\n",
       "    </tr>\n",
       "    <tr>\n",
       "      <th>15-19</th>\n",
       "      <td>18.576389</td>\n",
       "    </tr>\n",
       "    <tr>\n",
       "      <th>20-24</th>\n",
       "      <td>44.791667</td>\n",
       "    </tr>\n",
       "    <tr>\n",
       "      <th>25-29</th>\n",
       "      <td>13.368056</td>\n",
       "    </tr>\n",
       "    <tr>\n",
       "      <th>30-34</th>\n",
       "      <td>9.027778</td>\n",
       "    </tr>\n",
       "    <tr>\n",
       "      <th>35-39</th>\n",
       "      <td>5.381944</td>\n",
       "    </tr>\n",
       "    <tr>\n",
       "      <th>40+</th>\n",
       "      <td>2.083333</td>\n",
       "    </tr>\n",
       "  </tbody>\n",
       "</table>\n",
       "</div>"
      ],
      "text/plain": [
       "           Percentage of Players\n",
       "Age Group                       \n",
       "<10                     2.951389\n",
       "10-14                   3.819444\n",
       "15-19                  18.576389\n",
       "20-24                  44.791667\n",
       "25-29                  13.368056\n",
       "30-34                   9.027778\n",
       "35-39                   5.381944\n",
       "40+                     2.083333"
      ]
     },
     "execution_count": 32,
     "metadata": {},
     "output_type": "execute_result"
    }
   ],
   "source": [
    "pct_player_age_df = count_by_age_df/player_count_df*100\n",
    "pct_player_age_df = pct_player_age_df.rename(columns={\"Total Count\": \"Percentage of Players\"})\n",
    "pct_player_age_df"
   ]
  },
  {
   "cell_type": "markdown",
   "metadata": {},
   "source": [
    "### Display the summary data frame"
   ]
  },
  {
   "cell_type": "code",
   "execution_count": 33,
   "metadata": {},
   "outputs": [
    {
     "data": {
      "text/html": [
       "<style  type=\"text/css\" >\n",
       "</style><table id=\"T_be2029ee_7156_11ea_9b17_8c8590775df2\" ><thead>    <tr>        <th class=\"blank level0\" ></th>        <th class=\"col_heading level0 col0\" >Total Count</th>        <th class=\"col_heading level0 col1\" >Percentage of Players</th>    </tr>    <tr>        <th class=\"index_name level0\" >Age Group</th>        <th class=\"blank\" ></th>        <th class=\"blank\" ></th>    </tr></thead><tbody>\n",
       "                <tr>\n",
       "                        <th id=\"T_be2029ee_7156_11ea_9b17_8c8590775df2level0_row0\" class=\"row_heading level0 row0\" ><10</th>\n",
       "                        <td id=\"T_be2029ee_7156_11ea_9b17_8c8590775df2row0_col0\" class=\"data row0 col0\" >17</td>\n",
       "                        <td id=\"T_be2029ee_7156_11ea_9b17_8c8590775df2row0_col1\" class=\"data row0 col1\" > 2.95%</td>\n",
       "            </tr>\n",
       "            <tr>\n",
       "                        <th id=\"T_be2029ee_7156_11ea_9b17_8c8590775df2level0_row1\" class=\"row_heading level0 row1\" >10-14</th>\n",
       "                        <td id=\"T_be2029ee_7156_11ea_9b17_8c8590775df2row1_col0\" class=\"data row1 col0\" >22</td>\n",
       "                        <td id=\"T_be2029ee_7156_11ea_9b17_8c8590775df2row1_col1\" class=\"data row1 col1\" > 3.82%</td>\n",
       "            </tr>\n",
       "            <tr>\n",
       "                        <th id=\"T_be2029ee_7156_11ea_9b17_8c8590775df2level0_row2\" class=\"row_heading level0 row2\" >15-19</th>\n",
       "                        <td id=\"T_be2029ee_7156_11ea_9b17_8c8590775df2row2_col0\" class=\"data row2 col0\" >107</td>\n",
       "                        <td id=\"T_be2029ee_7156_11ea_9b17_8c8590775df2row2_col1\" class=\"data row2 col1\" > 18.58%</td>\n",
       "            </tr>\n",
       "            <tr>\n",
       "                        <th id=\"T_be2029ee_7156_11ea_9b17_8c8590775df2level0_row3\" class=\"row_heading level0 row3\" >20-24</th>\n",
       "                        <td id=\"T_be2029ee_7156_11ea_9b17_8c8590775df2row3_col0\" class=\"data row3 col0\" >258</td>\n",
       "                        <td id=\"T_be2029ee_7156_11ea_9b17_8c8590775df2row3_col1\" class=\"data row3 col1\" > 44.79%</td>\n",
       "            </tr>\n",
       "            <tr>\n",
       "                        <th id=\"T_be2029ee_7156_11ea_9b17_8c8590775df2level0_row4\" class=\"row_heading level0 row4\" >25-29</th>\n",
       "                        <td id=\"T_be2029ee_7156_11ea_9b17_8c8590775df2row4_col0\" class=\"data row4 col0\" >77</td>\n",
       "                        <td id=\"T_be2029ee_7156_11ea_9b17_8c8590775df2row4_col1\" class=\"data row4 col1\" > 13.37%</td>\n",
       "            </tr>\n",
       "            <tr>\n",
       "                        <th id=\"T_be2029ee_7156_11ea_9b17_8c8590775df2level0_row5\" class=\"row_heading level0 row5\" >30-34</th>\n",
       "                        <td id=\"T_be2029ee_7156_11ea_9b17_8c8590775df2row5_col0\" class=\"data row5 col0\" >52</td>\n",
       "                        <td id=\"T_be2029ee_7156_11ea_9b17_8c8590775df2row5_col1\" class=\"data row5 col1\" > 9.03%</td>\n",
       "            </tr>\n",
       "            <tr>\n",
       "                        <th id=\"T_be2029ee_7156_11ea_9b17_8c8590775df2level0_row6\" class=\"row_heading level0 row6\" >35-39</th>\n",
       "                        <td id=\"T_be2029ee_7156_11ea_9b17_8c8590775df2row6_col0\" class=\"data row6 col0\" >31</td>\n",
       "                        <td id=\"T_be2029ee_7156_11ea_9b17_8c8590775df2row6_col1\" class=\"data row6 col1\" > 5.38%</td>\n",
       "            </tr>\n",
       "            <tr>\n",
       "                        <th id=\"T_be2029ee_7156_11ea_9b17_8c8590775df2level0_row7\" class=\"row_heading level0 row7\" >40+</th>\n",
       "                        <td id=\"T_be2029ee_7156_11ea_9b17_8c8590775df2row7_col0\" class=\"data row7 col0\" >12</td>\n",
       "                        <td id=\"T_be2029ee_7156_11ea_9b17_8c8590775df2row7_col1\" class=\"data row7 col1\" > 2.08%</td>\n",
       "            </tr>\n",
       "    </tbody></table>"
      ],
      "text/plain": [
       "<pandas.io.formats.style.Styler at 0x11ce89c50>"
      ]
     },
     "execution_count": 33,
     "metadata": {},
     "output_type": "execute_result"
    }
   ],
   "source": [
    "age_dem_merge = pd.merge(count_by_age_df, pct_player_age_df, on=\"Age Group\")\n",
    "age_dem_merge.style.format({\"Percentage of Players\":\" {:,.2f}%\"})"
   ]
  },
  {
   "cell_type": "markdown",
   "metadata": {},
   "source": [
    "#  Purchasing Analysis (Age)"
   ]
  },
  {
   "cell_type": "code",
   "execution_count": 34,
   "metadata": {
    "scrolled": true
   },
   "outputs": [],
   "source": [
    "#Average Purchase Price\n",
    "#Total Purchase Value\n",
    "#Average Purchase Total per Person by Age Group\n",
    "purchby_age_df = pd.DataFrame(age_purch_data_df[\"SN\"].count())\n",
    "purchby_age_df = purchby_age_df.rename(columns={\"SN\": \"Purchase Count\"})"
   ]
  },
  {
   "cell_type": "code",
   "execution_count": 35,
   "metadata": {
    "scrolled": false
   },
   "outputs": [],
   "source": [
    "av_pbage_df = pd.DataFrame(age_purch_data_df[\"Price\"].mean())\n",
    "av_pbage_df = av_pbage_df.rename(columns={\"Price\": \"Average Purchase Price\"})"
   ]
  },
  {
   "cell_type": "code",
   "execution_count": 36,
   "metadata": {},
   "outputs": [],
   "source": [
    "age_purch_merge = pd.merge(purchby_age_df, av_pbage_df, on=\"Age Group\")"
   ]
  },
  {
   "cell_type": "code",
   "execution_count": 37,
   "metadata": {
    "scrolled": false
   },
   "outputs": [],
   "source": [
    "totalp_by_age_df = pd.DataFrame(age_purch_data_df[\"Price\"].sum())\n",
    "totalp_by_age_df = totalp_by_age_df.rename(columns={\"Price\": \"Total Purchase Value\"})"
   ]
  },
  {
   "cell_type": "code",
   "execution_count": 38,
   "metadata": {},
   "outputs": [],
   "source": [
    "age_purch_merge2 = pd.merge(age_purch_merge, totalp_by_age_df, on=\"Age Group\")"
   ]
  },
  {
   "cell_type": "code",
   "execution_count": 57,
   "metadata": {
    "scrolled": true
   },
   "outputs": [],
   "source": [
    "totalav_by_age_df = pd.DataFrame(totalp_by_age_df[\"Total Purchase Value\"]/count_by_age_df[\"Total Count\"], \n",
    "                                 columns=[\"Avg Total Purchase per Person\"])"
   ]
  },
  {
   "cell_type": "markdown",
   "metadata": {},
   "source": [
    "### Display the summary data frame"
   ]
  },
  {
   "cell_type": "code",
   "execution_count": 58,
   "metadata": {},
   "outputs": [
    {
     "data": {
      "text/html": [
       "<style  type=\"text/css\" >\n",
       "</style><table id=\"T_eba3241e_7156_11ea_93a1_8c8590775df2\" ><thead>    <tr>        <th class=\"blank level0\" ></th>        <th class=\"col_heading level0 col0\" >Purchase Count</th>        <th class=\"col_heading level0 col1\" >Average Purchase Price</th>        <th class=\"col_heading level0 col2\" >Total Purchase Value</th>        <th class=\"col_heading level0 col3\" >Avg Total Purchase per Person</th>    </tr>    <tr>        <th class=\"index_name level0\" >Age Group</th>        <th class=\"blank\" ></th>        <th class=\"blank\" ></th>        <th class=\"blank\" ></th>        <th class=\"blank\" ></th>    </tr></thead><tbody>\n",
       "                <tr>\n",
       "                        <th id=\"T_eba3241e_7156_11ea_93a1_8c8590775df2level0_row0\" class=\"row_heading level0 row0\" ><10</th>\n",
       "                        <td id=\"T_eba3241e_7156_11ea_93a1_8c8590775df2row0_col0\" class=\"data row0 col0\" >23</td>\n",
       "                        <td id=\"T_eba3241e_7156_11ea_93a1_8c8590775df2row0_col1\" class=\"data row0 col1\" > $3.35</td>\n",
       "                        <td id=\"T_eba3241e_7156_11ea_93a1_8c8590775df2row0_col2\" class=\"data row0 col2\" >$77.13</td>\n",
       "                        <td id=\"T_eba3241e_7156_11ea_93a1_8c8590775df2row0_col3\" class=\"data row0 col3\" >$4.54</td>\n",
       "            </tr>\n",
       "            <tr>\n",
       "                        <th id=\"T_eba3241e_7156_11ea_93a1_8c8590775df2level0_row1\" class=\"row_heading level0 row1\" >10-14</th>\n",
       "                        <td id=\"T_eba3241e_7156_11ea_93a1_8c8590775df2row1_col0\" class=\"data row1 col0\" >28</td>\n",
       "                        <td id=\"T_eba3241e_7156_11ea_93a1_8c8590775df2row1_col1\" class=\"data row1 col1\" > $2.96</td>\n",
       "                        <td id=\"T_eba3241e_7156_11ea_93a1_8c8590775df2row1_col2\" class=\"data row1 col2\" >$82.78</td>\n",
       "                        <td id=\"T_eba3241e_7156_11ea_93a1_8c8590775df2row1_col3\" class=\"data row1 col3\" >$3.76</td>\n",
       "            </tr>\n",
       "            <tr>\n",
       "                        <th id=\"T_eba3241e_7156_11ea_93a1_8c8590775df2level0_row2\" class=\"row_heading level0 row2\" >15-19</th>\n",
       "                        <td id=\"T_eba3241e_7156_11ea_93a1_8c8590775df2row2_col0\" class=\"data row2 col0\" >136</td>\n",
       "                        <td id=\"T_eba3241e_7156_11ea_93a1_8c8590775df2row2_col1\" class=\"data row2 col1\" > $3.04</td>\n",
       "                        <td id=\"T_eba3241e_7156_11ea_93a1_8c8590775df2row2_col2\" class=\"data row2 col2\" >$412.89</td>\n",
       "                        <td id=\"T_eba3241e_7156_11ea_93a1_8c8590775df2row2_col3\" class=\"data row2 col3\" >$3.86</td>\n",
       "            </tr>\n",
       "            <tr>\n",
       "                        <th id=\"T_eba3241e_7156_11ea_93a1_8c8590775df2level0_row3\" class=\"row_heading level0 row3\" >20-24</th>\n",
       "                        <td id=\"T_eba3241e_7156_11ea_93a1_8c8590775df2row3_col0\" class=\"data row3 col0\" >365</td>\n",
       "                        <td id=\"T_eba3241e_7156_11ea_93a1_8c8590775df2row3_col1\" class=\"data row3 col1\" > $3.05</td>\n",
       "                        <td id=\"T_eba3241e_7156_11ea_93a1_8c8590775df2row3_col2\" class=\"data row3 col2\" >$1,114.06</td>\n",
       "                        <td id=\"T_eba3241e_7156_11ea_93a1_8c8590775df2row3_col3\" class=\"data row3 col3\" >$4.32</td>\n",
       "            </tr>\n",
       "            <tr>\n",
       "                        <th id=\"T_eba3241e_7156_11ea_93a1_8c8590775df2level0_row4\" class=\"row_heading level0 row4\" >25-29</th>\n",
       "                        <td id=\"T_eba3241e_7156_11ea_93a1_8c8590775df2row4_col0\" class=\"data row4 col0\" >101</td>\n",
       "                        <td id=\"T_eba3241e_7156_11ea_93a1_8c8590775df2row4_col1\" class=\"data row4 col1\" > $2.90</td>\n",
       "                        <td id=\"T_eba3241e_7156_11ea_93a1_8c8590775df2row4_col2\" class=\"data row4 col2\" >$293.00</td>\n",
       "                        <td id=\"T_eba3241e_7156_11ea_93a1_8c8590775df2row4_col3\" class=\"data row4 col3\" >$3.81</td>\n",
       "            </tr>\n",
       "            <tr>\n",
       "                        <th id=\"T_eba3241e_7156_11ea_93a1_8c8590775df2level0_row5\" class=\"row_heading level0 row5\" >30-34</th>\n",
       "                        <td id=\"T_eba3241e_7156_11ea_93a1_8c8590775df2row5_col0\" class=\"data row5 col0\" >73</td>\n",
       "                        <td id=\"T_eba3241e_7156_11ea_93a1_8c8590775df2row5_col1\" class=\"data row5 col1\" > $2.93</td>\n",
       "                        <td id=\"T_eba3241e_7156_11ea_93a1_8c8590775df2row5_col2\" class=\"data row5 col2\" >$214.00</td>\n",
       "                        <td id=\"T_eba3241e_7156_11ea_93a1_8c8590775df2row5_col3\" class=\"data row5 col3\" >$4.12</td>\n",
       "            </tr>\n",
       "            <tr>\n",
       "                        <th id=\"T_eba3241e_7156_11ea_93a1_8c8590775df2level0_row6\" class=\"row_heading level0 row6\" >35-39</th>\n",
       "                        <td id=\"T_eba3241e_7156_11ea_93a1_8c8590775df2row6_col0\" class=\"data row6 col0\" >41</td>\n",
       "                        <td id=\"T_eba3241e_7156_11ea_93a1_8c8590775df2row6_col1\" class=\"data row6 col1\" > $3.60</td>\n",
       "                        <td id=\"T_eba3241e_7156_11ea_93a1_8c8590775df2row6_col2\" class=\"data row6 col2\" >$147.67</td>\n",
       "                        <td id=\"T_eba3241e_7156_11ea_93a1_8c8590775df2row6_col3\" class=\"data row6 col3\" >$4.76</td>\n",
       "            </tr>\n",
       "            <tr>\n",
       "                        <th id=\"T_eba3241e_7156_11ea_93a1_8c8590775df2level0_row7\" class=\"row_heading level0 row7\" >40+</th>\n",
       "                        <td id=\"T_eba3241e_7156_11ea_93a1_8c8590775df2row7_col0\" class=\"data row7 col0\" >13</td>\n",
       "                        <td id=\"T_eba3241e_7156_11ea_93a1_8c8590775df2row7_col1\" class=\"data row7 col1\" > $2.94</td>\n",
       "                        <td id=\"T_eba3241e_7156_11ea_93a1_8c8590775df2row7_col2\" class=\"data row7 col2\" >$38.24</td>\n",
       "                        <td id=\"T_eba3241e_7156_11ea_93a1_8c8590775df2row7_col3\" class=\"data row7 col3\" >$3.19</td>\n",
       "            </tr>\n",
       "    </tbody></table>"
      ],
      "text/plain": [
       "<pandas.io.formats.style.Styler at 0x11ce49358>"
      ]
     },
     "execution_count": 58,
     "metadata": {},
     "output_type": "execute_result"
    }
   ],
   "source": [
    "age_purch_merge3 = pd.merge(age_purch_merge2, totalav_by_age_df, on=\"Age Group\")\n",
    "age_purch_merge3.style.format({\"Average Purchase Price\":\" ${:,.2f}\", \"Total Purchase Value\":\"${:,.2f}\",\n",
    "                               \"Avg Total Purchase per Person\": \"${:,.2f}\"})"
   ]
  },
  {
   "cell_type": "markdown",
   "metadata": {},
   "source": [
    "## Top Spenders"
   ]
  },
  {
   "cell_type": "code",
   "execution_count": 59,
   "metadata": {
    "scrolled": true
   },
   "outputs": [],
   "source": [
    "top_spender_group = purchase_data_df.groupby(\"SN\")\n",
    "sn_purch_df = pd.DataFrame(top_spender_group[\"Price\"].sum())\n",
    "sn_purch_df = sn_purch_df.rename(columns={\"Price\": \"Total Purchase Value\"})"
   ]
  },
  {
   "cell_type": "code",
   "execution_count": 60,
   "metadata": {
    "scrolled": true
   },
   "outputs": [],
   "source": [
    "sn_av_df = pd.DataFrame(top_spender_group[\"Price\"].mean())\n",
    "sn_av_df = sn_av_df.rename(columns={\"Price\": \"Average Purchase Price\"})"
   ]
  },
  {
   "cell_type": "code",
   "execution_count": 61,
   "metadata": {
    "scrolled": true
   },
   "outputs": [],
   "source": [
    "sn_merge_df = pd.merge(sn_av_df, sn_purch_df, on=\"SN\")"
   ]
  },
  {
   "cell_type": "code",
   "execution_count": 62,
   "metadata": {
    "scrolled": true
   },
   "outputs": [],
   "source": [
    "sn_count_df = pd.DataFrame(top_spender_group[\"Price\"].count())\n",
    "sn_count_df = sn_count_df.rename(columns={\"Price\": \"Purchase Count\"})"
   ]
  },
  {
   "cell_type": "code",
   "execution_count": 63,
   "metadata": {},
   "outputs": [],
   "source": [
    "sn_merge2_df = pd.merge(sn_merge_df, sn_count_df, on=\"SN\")"
   ]
  },
  {
   "cell_type": "markdown",
   "metadata": {},
   "source": [
    "### Display the summary data frame"
   ]
  },
  {
   "cell_type": "code",
   "execution_count": 64,
   "metadata": {
    "scrolled": true
   },
   "outputs": [
    {
     "data": {
      "text/html": [
       "<style  type=\"text/css\" >\n",
       "</style><table id=\"T_ed329140_7156_11ea_aa2e_8c8590775df2\" ><thead>    <tr>        <th class=\"blank level0\" ></th>        <th class=\"col_heading level0 col0\" >Average Purchase Price</th>        <th class=\"col_heading level0 col1\" >Total Purchase Value</th>        <th class=\"col_heading level0 col2\" >Purchase Count</th>    </tr>    <tr>        <th class=\"index_name level0\" >SN</th>        <th class=\"blank\" ></th>        <th class=\"blank\" ></th>        <th class=\"blank\" ></th>    </tr></thead><tbody>\n",
       "                <tr>\n",
       "                        <th id=\"T_ed329140_7156_11ea_aa2e_8c8590775df2level0_row0\" class=\"row_heading level0 row0\" >Lisosia93</th>\n",
       "                        <td id=\"T_ed329140_7156_11ea_aa2e_8c8590775df2row0_col0\" class=\"data row0 col0\" > $3.79</td>\n",
       "                        <td id=\"T_ed329140_7156_11ea_aa2e_8c8590775df2row0_col1\" class=\"data row0 col1\" >$18.96</td>\n",
       "                        <td id=\"T_ed329140_7156_11ea_aa2e_8c8590775df2row0_col2\" class=\"data row0 col2\" >5</td>\n",
       "            </tr>\n",
       "            <tr>\n",
       "                        <th id=\"T_ed329140_7156_11ea_aa2e_8c8590775df2level0_row1\" class=\"row_heading level0 row1\" >Idastidru52</th>\n",
       "                        <td id=\"T_ed329140_7156_11ea_aa2e_8c8590775df2row1_col0\" class=\"data row1 col0\" > $3.86</td>\n",
       "                        <td id=\"T_ed329140_7156_11ea_aa2e_8c8590775df2row1_col1\" class=\"data row1 col1\" >$15.45</td>\n",
       "                        <td id=\"T_ed329140_7156_11ea_aa2e_8c8590775df2row1_col2\" class=\"data row1 col2\" >4</td>\n",
       "            </tr>\n",
       "            <tr>\n",
       "                        <th id=\"T_ed329140_7156_11ea_aa2e_8c8590775df2level0_row2\" class=\"row_heading level0 row2\" >Chamjask73</th>\n",
       "                        <td id=\"T_ed329140_7156_11ea_aa2e_8c8590775df2row2_col0\" class=\"data row2 col0\" > $4.61</td>\n",
       "                        <td id=\"T_ed329140_7156_11ea_aa2e_8c8590775df2row2_col1\" class=\"data row2 col1\" >$13.83</td>\n",
       "                        <td id=\"T_ed329140_7156_11ea_aa2e_8c8590775df2row2_col2\" class=\"data row2 col2\" >3</td>\n",
       "            </tr>\n",
       "            <tr>\n",
       "                        <th id=\"T_ed329140_7156_11ea_aa2e_8c8590775df2level0_row3\" class=\"row_heading level0 row3\" >Iral74</th>\n",
       "                        <td id=\"T_ed329140_7156_11ea_aa2e_8c8590775df2row3_col0\" class=\"data row3 col0\" > $3.40</td>\n",
       "                        <td id=\"T_ed329140_7156_11ea_aa2e_8c8590775df2row3_col1\" class=\"data row3 col1\" >$13.62</td>\n",
       "                        <td id=\"T_ed329140_7156_11ea_aa2e_8c8590775df2row3_col2\" class=\"data row3 col2\" >4</td>\n",
       "            </tr>\n",
       "            <tr>\n",
       "                        <th id=\"T_ed329140_7156_11ea_aa2e_8c8590775df2level0_row4\" class=\"row_heading level0 row4\" >Iskadarya95</th>\n",
       "                        <td id=\"T_ed329140_7156_11ea_aa2e_8c8590775df2row4_col0\" class=\"data row4 col0\" > $4.37</td>\n",
       "                        <td id=\"T_ed329140_7156_11ea_aa2e_8c8590775df2row4_col1\" class=\"data row4 col1\" >$13.10</td>\n",
       "                        <td id=\"T_ed329140_7156_11ea_aa2e_8c8590775df2row4_col2\" class=\"data row4 col2\" >3</td>\n",
       "            </tr>\n",
       "    </tbody></table>"
      ],
      "text/plain": [
       "<pandas.io.formats.style.Styler at 0x11ce60438>"
      ]
     },
     "execution_count": 64,
     "metadata": {},
     "output_type": "execute_result"
    }
   ],
   "source": [
    "sort_top_df = sn_merge2_df.sort_values(by=\"Total Purchase Value\", ascending=False)\n",
    "sort_top_df = sort_top_df.iloc[0:5, :]\n",
    "sort_top_df.style.format({\"Average Purchase Price\":\" ${:,.2f}\", \"Total Purchase Value\":\"${:,.2f}\"})"
   ]
  },
  {
   "cell_type": "markdown",
   "metadata": {},
   "source": [
    "# Most Popular Items"
   ]
  },
  {
   "cell_type": "code",
   "execution_count": 65,
   "metadata": {
    "scrolled": true
   },
   "outputs": [],
   "source": [
    "popular_item_df = purchase_data_df[[\"Item ID\", \"Item Name\", \"Price\"]]"
   ]
  },
  {
   "cell_type": "code",
   "execution_count": 66,
   "metadata": {
    "scrolled": true
   },
   "outputs": [],
   "source": [
    "popular_item_group = purchase_data_df.groupby([\"Item ID\", \"Item Name\"])"
   ]
  },
  {
   "cell_type": "code",
   "execution_count": 67,
   "metadata": {
    "scrolled": true
   },
   "outputs": [],
   "source": [
    "pop_purch_df = pd.DataFrame(popular_item_group[\"Price\"].sum())\n",
    "pop_purch_df = pop_purch_df.rename(\n",
    "    columns={\"Price\": \"Total Purchase Value\"})\n",
    "pop_purch_df = pop_purch_df.reset_index()"
   ]
  },
  {
   "cell_type": "code",
   "execution_count": 68,
   "metadata": {},
   "outputs": [],
   "source": [
    "pop_avp_df = pd.DataFrame(popular_item_group[\"Price\"].mean())\n",
    "\n",
    "pop_avp_df = pop_avp_df.rename(\n",
    "    columns={\"Price\": \"Item Price\"})\n",
    "pop_avp_df = pop_avp_df.reset_index()"
   ]
  },
  {
   "cell_type": "code",
   "execution_count": 69,
   "metadata": {},
   "outputs": [],
   "source": [
    "pop_count_df = pd.DataFrame(popular_item_group[\"Price\"].count())\n",
    "\n",
    "pop_count_df = pop_count_df.rename(\n",
    "    columns={\"Price\": \"Purchase Count\"})\n",
    "pop_count_df = pop_count_df.reset_index()"
   ]
  },
  {
   "cell_type": "code",
   "execution_count": 70,
   "metadata": {
    "scrolled": false
   },
   "outputs": [],
   "source": [
    "pop_merge_df = pd.merge(pop_count_df, pop_avp_df, on=[\"Item ID\", \"Item Name\"])"
   ]
  },
  {
   "cell_type": "code",
   "execution_count": 71,
   "metadata": {},
   "outputs": [],
   "source": [
    "pop_merge2_df = pd.merge(pop_merge_df, pop_purch_df, on=[\"Item ID\", \"Item Name\"])"
   ]
  },
  {
   "cell_type": "markdown",
   "metadata": {},
   "source": [
    "### Display the summary data frame"
   ]
  },
  {
   "cell_type": "code",
   "execution_count": 72,
   "metadata": {
    "scrolled": true
   },
   "outputs": [
    {
     "data": {
      "text/html": [
       "<style  type=\"text/css\" >\n",
       "</style><table id=\"T_f46fa362_7156_11ea_ae42_8c8590775df2\" ><thead>    <tr>        <th class=\"blank\" ></th>        <th class=\"blank level0\" ></th>        <th class=\"col_heading level0 col0\" >Purchase Count</th>        <th class=\"col_heading level0 col1\" >Item Price</th>        <th class=\"col_heading level0 col2\" >Total Purchase Value</th>    </tr>    <tr>        <th class=\"index_name level0\" >Item ID</th>        <th class=\"index_name level1\" >Item Name</th>        <th class=\"blank\" ></th>        <th class=\"blank\" ></th>        <th class=\"blank\" ></th>    </tr></thead><tbody>\n",
       "                <tr>\n",
       "                        <th id=\"T_f46fa362_7156_11ea_ae42_8c8590775df2level0_row0\" class=\"row_heading level0 row0\" >92</th>\n",
       "                        <th id=\"T_f46fa362_7156_11ea_ae42_8c8590775df2level1_row0\" class=\"row_heading level1 row0\" >Final Critic</th>\n",
       "                        <td id=\"T_f46fa362_7156_11ea_ae42_8c8590775df2row0_col0\" class=\"data row0 col0\" >13</td>\n",
       "                        <td id=\"T_f46fa362_7156_11ea_ae42_8c8590775df2row0_col1\" class=\"data row0 col1\" > $4.61</td>\n",
       "                        <td id=\"T_f46fa362_7156_11ea_ae42_8c8590775df2row0_col2\" class=\"data row0 col2\" >$59.99</td>\n",
       "            </tr>\n",
       "            <tr>\n",
       "                        <th id=\"T_f46fa362_7156_11ea_ae42_8c8590775df2level0_row1\" class=\"row_heading level0 row1\" >178</th>\n",
       "                        <th id=\"T_f46fa362_7156_11ea_ae42_8c8590775df2level1_row1\" class=\"row_heading level1 row1\" >Oathbreaker, Last Hope of the Breaking Storm</th>\n",
       "                        <td id=\"T_f46fa362_7156_11ea_ae42_8c8590775df2row1_col0\" class=\"data row1 col0\" >12</td>\n",
       "                        <td id=\"T_f46fa362_7156_11ea_ae42_8c8590775df2row1_col1\" class=\"data row1 col1\" > $4.23</td>\n",
       "                        <td id=\"T_f46fa362_7156_11ea_ae42_8c8590775df2row1_col2\" class=\"data row1 col2\" >$50.76</td>\n",
       "            </tr>\n",
       "            <tr>\n",
       "                        <th id=\"T_f46fa362_7156_11ea_ae42_8c8590775df2level0_row2\" class=\"row_heading level0 row2\" >145</th>\n",
       "                        <th id=\"T_f46fa362_7156_11ea_ae42_8c8590775df2level1_row2\" class=\"row_heading level1 row2\" >Fiery Glass Crusader</th>\n",
       "                        <td id=\"T_f46fa362_7156_11ea_ae42_8c8590775df2row2_col0\" class=\"data row2 col0\" >9</td>\n",
       "                        <td id=\"T_f46fa362_7156_11ea_ae42_8c8590775df2row2_col1\" class=\"data row2 col1\" > $4.58</td>\n",
       "                        <td id=\"T_f46fa362_7156_11ea_ae42_8c8590775df2row2_col2\" class=\"data row2 col2\" >$41.22</td>\n",
       "            </tr>\n",
       "            <tr>\n",
       "                        <th id=\"T_f46fa362_7156_11ea_ae42_8c8590775df2level0_row3\" class=\"row_heading level0 row3\" >132</th>\n",
       "                        <th id=\"T_f46fa362_7156_11ea_ae42_8c8590775df2level1_row3\" class=\"row_heading level1 row3\" >Persuasion</th>\n",
       "                        <td id=\"T_f46fa362_7156_11ea_ae42_8c8590775df2row3_col0\" class=\"data row3 col0\" >9</td>\n",
       "                        <td id=\"T_f46fa362_7156_11ea_ae42_8c8590775df2row3_col1\" class=\"data row3 col1\" > $3.22</td>\n",
       "                        <td id=\"T_f46fa362_7156_11ea_ae42_8c8590775df2row3_col2\" class=\"data row3 col2\" >$28.99</td>\n",
       "            </tr>\n",
       "            <tr>\n",
       "                        <th id=\"T_f46fa362_7156_11ea_ae42_8c8590775df2level0_row4\" class=\"row_heading level0 row4\" >108</th>\n",
       "                        <th id=\"T_f46fa362_7156_11ea_ae42_8c8590775df2level1_row4\" class=\"row_heading level1 row4\" >Extraction, Quickblade Of Trembling Hands</th>\n",
       "                        <td id=\"T_f46fa362_7156_11ea_ae42_8c8590775df2row4_col0\" class=\"data row4 col0\" >9</td>\n",
       "                        <td id=\"T_f46fa362_7156_11ea_ae42_8c8590775df2row4_col1\" class=\"data row4 col1\" > $3.53</td>\n",
       "                        <td id=\"T_f46fa362_7156_11ea_ae42_8c8590775df2row4_col2\" class=\"data row4 col2\" >$31.77</td>\n",
       "            </tr>\n",
       "    </tbody></table>"
      ],
      "text/plain": [
       "<pandas.io.formats.style.Styler at 0x11ce317b8>"
      ]
     },
     "execution_count": 72,
     "metadata": {},
     "output_type": "execute_result"
    }
   ],
   "source": [
    "sort_pop_df = pop_merge2_df.sort_values(by=\"Purchase Count\", ascending=False)\n",
    "sort_pop_df = sort_pop_df.set_index([\"Item ID\", \"Item Name\"])\n",
    "sort_pop_df = sort_pop_df.iloc[0:5, :]\n",
    "sort_pop_df = sort_pop_df.style.format({\"Item Price\":\" ${:,.2f}\", \"Total Purchase Value\":\"${:,.2f}\"})\n",
    "sort_pop_df"
   ]
  },
  {
   "cell_type": "markdown",
   "metadata": {},
   "source": [
    "# Most Profitable Items"
   ]
  },
  {
   "cell_type": "code",
   "execution_count": 73,
   "metadata": {},
   "outputs": [
    {
     "data": {
      "text/html": [
       "<style  type=\"text/css\" >\n",
       "</style><table id=\"T_f52fcc14_7156_11ea_931b_8c8590775df2\" ><thead>    <tr>        <th class=\"blank\" ></th>        <th class=\"blank level0\" ></th>        <th class=\"col_heading level0 col0\" >Purchase Count</th>        <th class=\"col_heading level0 col1\" >Item Price</th>        <th class=\"col_heading level0 col2\" >Total Purchase Value</th>    </tr>    <tr>        <th class=\"index_name level0\" >Item ID</th>        <th class=\"index_name level1\" >Item Name</th>        <th class=\"blank\" ></th>        <th class=\"blank\" ></th>        <th class=\"blank\" ></th>    </tr></thead><tbody>\n",
       "                <tr>\n",
       "                        <th id=\"T_f52fcc14_7156_11ea_931b_8c8590775df2level0_row0\" class=\"row_heading level0 row0\" >92</th>\n",
       "                        <th id=\"T_f52fcc14_7156_11ea_931b_8c8590775df2level1_row0\" class=\"row_heading level1 row0\" >Final Critic</th>\n",
       "                        <td id=\"T_f52fcc14_7156_11ea_931b_8c8590775df2row0_col0\" class=\"data row0 col0\" >13</td>\n",
       "                        <td id=\"T_f52fcc14_7156_11ea_931b_8c8590775df2row0_col1\" class=\"data row0 col1\" > $4.61</td>\n",
       "                        <td id=\"T_f52fcc14_7156_11ea_931b_8c8590775df2row0_col2\" class=\"data row0 col2\" >$59.99</td>\n",
       "            </tr>\n",
       "            <tr>\n",
       "                        <th id=\"T_f52fcc14_7156_11ea_931b_8c8590775df2level0_row1\" class=\"row_heading level0 row1\" >178</th>\n",
       "                        <th id=\"T_f52fcc14_7156_11ea_931b_8c8590775df2level1_row1\" class=\"row_heading level1 row1\" >Oathbreaker, Last Hope of the Breaking Storm</th>\n",
       "                        <td id=\"T_f52fcc14_7156_11ea_931b_8c8590775df2row1_col0\" class=\"data row1 col0\" >12</td>\n",
       "                        <td id=\"T_f52fcc14_7156_11ea_931b_8c8590775df2row1_col1\" class=\"data row1 col1\" > $4.23</td>\n",
       "                        <td id=\"T_f52fcc14_7156_11ea_931b_8c8590775df2row1_col2\" class=\"data row1 col2\" >$50.76</td>\n",
       "            </tr>\n",
       "            <tr>\n",
       "                        <th id=\"T_f52fcc14_7156_11ea_931b_8c8590775df2level0_row2\" class=\"row_heading level0 row2\" >82</th>\n",
       "                        <th id=\"T_f52fcc14_7156_11ea_931b_8c8590775df2level1_row2\" class=\"row_heading level1 row2\" >Nirvana</th>\n",
       "                        <td id=\"T_f52fcc14_7156_11ea_931b_8c8590775df2row2_col0\" class=\"data row2 col0\" >9</td>\n",
       "                        <td id=\"T_f52fcc14_7156_11ea_931b_8c8590775df2row2_col1\" class=\"data row2 col1\" > $4.90</td>\n",
       "                        <td id=\"T_f52fcc14_7156_11ea_931b_8c8590775df2row2_col2\" class=\"data row2 col2\" >$44.10</td>\n",
       "            </tr>\n",
       "            <tr>\n",
       "                        <th id=\"T_f52fcc14_7156_11ea_931b_8c8590775df2level0_row3\" class=\"row_heading level0 row3\" >145</th>\n",
       "                        <th id=\"T_f52fcc14_7156_11ea_931b_8c8590775df2level1_row3\" class=\"row_heading level1 row3\" >Fiery Glass Crusader</th>\n",
       "                        <td id=\"T_f52fcc14_7156_11ea_931b_8c8590775df2row3_col0\" class=\"data row3 col0\" >9</td>\n",
       "                        <td id=\"T_f52fcc14_7156_11ea_931b_8c8590775df2row3_col1\" class=\"data row3 col1\" > $4.58</td>\n",
       "                        <td id=\"T_f52fcc14_7156_11ea_931b_8c8590775df2row3_col2\" class=\"data row3 col2\" >$41.22</td>\n",
       "            </tr>\n",
       "            <tr>\n",
       "                        <th id=\"T_f52fcc14_7156_11ea_931b_8c8590775df2level0_row4\" class=\"row_heading level0 row4\" >103</th>\n",
       "                        <th id=\"T_f52fcc14_7156_11ea_931b_8c8590775df2level1_row4\" class=\"row_heading level1 row4\" >Singed Scalpel</th>\n",
       "                        <td id=\"T_f52fcc14_7156_11ea_931b_8c8590775df2row4_col0\" class=\"data row4 col0\" >8</td>\n",
       "                        <td id=\"T_f52fcc14_7156_11ea_931b_8c8590775df2row4_col1\" class=\"data row4 col1\" > $4.35</td>\n",
       "                        <td id=\"T_f52fcc14_7156_11ea_931b_8c8590775df2row4_col2\" class=\"data row4 col2\" >$34.80</td>\n",
       "            </tr>\n",
       "    </tbody></table>"
      ],
      "text/plain": [
       "<pandas.io.formats.style.Styler at 0x11ce60f60>"
      ]
     },
     "execution_count": 73,
     "metadata": {},
     "output_type": "execute_result"
    }
   ],
   "source": [
    "#Identify the 5 most profitable items by total purchase value, then list (in a table):\n",
    "sort_prof_df = pop_merge2_df.sort_values(by=\"Total Purchase Value\", ascending=False)\n",
    "sort_prof_df = sort_prof_df.set_index([\"Item ID\", \"Item Name\"])\n",
    "sort_prof_df = sort_prof_df.iloc[0:5, :]\n",
    "sort_prof_df = sort_prof_df.style.format({\"Item Price\":\" ${:,.2f}\", \"Total Purchase Value\":\"${:,.2f}\"})\n",
    "sort_prof_df"
   ]
  }
 ],
 "metadata": {
  "kernelspec": {
   "display_name": "Python 3",
   "language": "python",
   "name": "python3"
  },
  "language_info": {
   "codemirror_mode": {
    "name": "ipython",
    "version": 3
   },
   "file_extension": ".py",
   "mimetype": "text/x-python",
   "name": "python",
   "nbconvert_exporter": "python",
   "pygments_lexer": "ipython3",
   "version": "3.6.10"
  }
 },
 "nbformat": 4,
 "nbformat_minor": 4
}
